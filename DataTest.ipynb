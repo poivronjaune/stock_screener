{
 "cells": [
  {
   "cell_type": "markdown",
   "metadata": {},
   "source": [
    "# Technical Analysis Functions and New DB"
   ]
  },
  {
   "cell_type": "code",
   "execution_count": null,
   "metadata": {},
   "outputs": [],
   "source": [
    "import sqlite3\n",
    "import pandas as pd\n",
    "import numpy as np\n",
    "import datetime\n",
    "from finta import TA\n",
    "\n",
    "import matplotlib as plot\n",
    "import mplfinance as mpf\n",
    "import plotly.graph_objects as go\n"
   ]
  },
  {
   "cell_type": "code",
   "execution_count": null,
   "metadata": {},
   "outputs": [],
   "source": [
    "# Get some stock prices from our Prices Database\n",
    "# Load a list of ticker symbols to load\n",
    "con1 = sqlite3.connect(\"TSX_Prices.sqlite\")\n",
    "#con2 = sqlite3.connect(\"TSX_Analysis.sqlite\")\n",
    "\n",
    "ticker = \"SHOP\"\n",
    "sql = f\"SELECT * FROM 'prices_daily' WHERE Ticker = '{ticker}' ORDER BY date ASC\"\n",
    "df = pd.read_sql_query(sql, con1)\n",
    "df.drop(['index'], axis=1, inplace=True)\n",
    "df[\"Date\"] = pd.to_datetime(df[\"Date\"], infer_datetime_format=True)\n",
    "df.set_index(\"Date\")\n",
    "df.tail(50)"
   ]
  },
  {
   "cell_type": "code",
   "execution_count": null,
   "metadata": {},
   "outputs": [],
   "source": [
    "df.Low[1808]"
   ]
  },
  {
   "cell_type": "code",
   "execution_count": null,
   "metadata": {},
   "outputs": [],
   "source": [
    "# Calculate if support at dtae l using n1 and n2 before and after target date (l)\n",
    "def support(df, l, n1, n2): \n",
    "    for i in range(l-n1+1, l+1):\n",
    "        if (df.Low[i] > df.Low[i-1]):\n",
    "            return 0\n",
    "    for i in range(l+1,l+n2+1):\n",
    "        if (df.Low[i] < df.Low[i-1] ):\n",
    "            return 0\n",
    "    return 1\n",
    "\n",
    "def resistance(df, l ,n1, n2):\n",
    "    for i in range(l-n1+1, l+1):\n",
    "        if (df.High[i] < df.High[i-1]):\n",
    "            return 0\n",
    "    for i in range(l+1, l+n2+1):\n",
    "        if ( df.High[i] > df.High[i-1] ):\n",
    "            return 0\n",
    "    return 1\n",
    "\n",
    "sr = []\n",
    "n1 = 3\n",
    "n2 = 2\n",
    "\n",
    "# FINISH THIS ?????"
   ]
  },
  {
   "cell_type": "code",
   "execution_count": null,
   "metadata": {},
   "outputs": [],
   "source": [
    "df[\"previous_close\"] = df[\"Close\"].shift(1)\n",
    "df[\"returns_manual\"] = (df[\"Close\"] / df[\"previous_close\"]) - 1\n",
    "df[\"change %\"] = df[\"Close\"] - df[\"previous_close\"]\n",
    "df[\"returns\"] = df[\"Close\"].pct_change()\n",
    "# LN(1+return) -> EXP(sum of LN) - 1\n",
    "df[\"log_return\"] = np.log(1 + df[\"returns\"])\n",
    "df[\"cum_log\"] = np.exp(df[\"log_return\"].cumsum()) - 1\n",
    "df[\"SMA200\"] = df[\"Close\"].rolling(window=250).mean()\n",
    "df[\"Trend\"] = np.where(df[\"Close\"] > df[\"SMA200\"], \"Up\", \"Down\")\n",
    "df.tail(10)"
   ]
  },
  {
   "cell_type": "code",
   "execution_count": null,
   "metadata": {},
   "outputs": [],
   "source": [
    "fig = go.Figure(data=[go.Candlestick(x=df_t['Date'],\n",
    "                open=df_t['Open'],\n",
    "                high=df_t['High'],\n",
    "                low=df_t['Low'],\n",
    "                close=df_t['Close'])\n",
    "                ])\n",
    "\n",
    "fig.add_trace(go.Scatter(x=df_t['Date'], \n",
    "                         y=df_t['SMA200'], \n",
    "                         opacity=0.7, \n",
    "                         line=dict(color='blue', width=4), \n",
    "                         name='SMA 200'))\n",
    "\n",
    "\n",
    "fig.show()"
   ]
  },
  {
   "cell_type": "code",
   "execution_count": 16,
   "metadata": {},
   "outputs": [
    {
     "data": {
      "text/html": [
       "<div>\n",
       "<style scoped>\n",
       "    .dataframe tbody tr th:only-of-type {\n",
       "        vertical-align: middle;\n",
       "    }\n",
       "\n",
       "    .dataframe tbody tr th {\n",
       "        vertical-align: top;\n",
       "    }\n",
       "\n",
       "    .dataframe thead th {\n",
       "        text-align: right;\n",
       "    }\n",
       "</style>\n",
       "<table border=\"1\" class=\"dataframe\">\n",
       "  <thead>\n",
       "    <tr style=\"text-align: right;\">\n",
       "      <th></th>\n",
       "      <th>Open</th>\n",
       "      <th>Close</th>\n",
       "      <th>Volume</th>\n",
       "      <th>Ticker</th>\n",
       "    </tr>\n",
       "  </thead>\n",
       "  <tbody>\n",
       "    <tr>\n",
       "      <th>2021-01-13</th>\n",
       "      <td>1.01</td>\n",
       "      <td>2.01</td>\n",
       "      <td>30001</td>\n",
       "      <td>TSLA</td>\n",
       "    </tr>\n",
       "    <tr>\n",
       "      <th>2021-01-12</th>\n",
       "      <td>1.02</td>\n",
       "      <td>2.02</td>\n",
       "      <td>30002</td>\n",
       "      <td>NSFT</td>\n",
       "    </tr>\n",
       "    <tr>\n",
       "      <th>2021-01-11</th>\n",
       "      <td>1.03</td>\n",
       "      <td>2.03</td>\n",
       "      <td>30003</td>\n",
       "      <td>AMZN</td>\n",
       "    </tr>\n",
       "  </tbody>\n",
       "</table>\n",
       "</div>"
      ],
      "text/plain": [
       "            Open Close Volume Ticker\n",
       "2021-01-13  1.01  2.01  30001   TSLA\n",
       "2021-01-12  1.02  2.02  30002   NSFT\n",
       "2021-01-11  1.03  2.03  30003   AMZN"
      ]
     },
     "execution_count": 16,
     "metadata": {},
     "output_type": "execute_result"
    }
   ],
   "source": [
    "import pandas as pd\n",
    "import sqlite3\n",
    "\n",
    "con = sqlite3.connect(\"testing.sqlite\")\n",
    "data = {\"Open\" : [\"1.01\", \"1.02\", \"1.03\"], \"Close\" : [\"2.01\", \"2.02\", \"2.03\"], \"Volume\" : [\"30001\", \"30002\", \"30003\"], \"Ticker\" : [\"TSLA\", \"NSFT\", \"AMZN\"]}\n",
    "#columns = [\"Open\", \"Close\", \"Volume\"]\n",
    "dates = [\"2021-01-13\", \"2021-01-12\", \"2021-01-11\"]\n",
    "df = pd.DataFrame(data, index=dates)\n",
    "df.index = pd.to_datetime(df.index, infer_datetime_format=True)\n",
    "df.to_sql(\"test\", con, index=\"Date\", if_exists=\"replace\")\n",
    "df"
   ]
  },
  {
   "cell_type": "code",
   "execution_count": 17,
   "metadata": {},
   "outputs": [
    {
     "data": {
      "text/html": [
       "<div>\n",
       "<style scoped>\n",
       "    .dataframe tbody tr th:only-of-type {\n",
       "        vertical-align: middle;\n",
       "    }\n",
       "\n",
       "    .dataframe tbody tr th {\n",
       "        vertical-align: top;\n",
       "    }\n",
       "\n",
       "    .dataframe thead th {\n",
       "        text-align: right;\n",
       "    }\n",
       "</style>\n",
       "<table border=\"1\" class=\"dataframe\">\n",
       "  <thead>\n",
       "    <tr style=\"text-align: right;\">\n",
       "      <th></th>\n",
       "      <th>Open</th>\n",
       "      <th>Close</th>\n",
       "      <th>Volume</th>\n",
       "    </tr>\n",
       "  </thead>\n",
       "  <tbody>\n",
       "    <tr>\n",
       "      <th>2021-01-13</th>\n",
       "      <td>1.01</td>\n",
       "      <td>2.01</td>\n",
       "      <td>30001</td>\n",
       "    </tr>\n",
       "    <tr>\n",
       "      <th>2021-01-12</th>\n",
       "      <td>1.02</td>\n",
       "      <td>2.02</td>\n",
       "      <td>30002</td>\n",
       "    </tr>\n",
       "    <tr>\n",
       "      <th>2021-01-11</th>\n",
       "      <td>1.03</td>\n",
       "      <td>2.03</td>\n",
       "      <td>30003</td>\n",
       "    </tr>\n",
       "  </tbody>\n",
       "</table>\n",
       "</div>"
      ],
      "text/plain": [
       "            Open Close Volume\n",
       "2021-01-13  1.01  2.01  30001\n",
       "2021-01-12  1.02  2.02  30002\n",
       "2021-01-11  1.03  2.03  30003"
      ]
     },
     "execution_count": 17,
     "metadata": {},
     "output_type": "execute_result"
    }
   ],
   "source": [
    "\n",
    "df.drop(\"Ticker\", axis=1, inplace=True)\n",
    "df.to_sql(\"test\", con, index=\"Date\", if_exists=\"append\")\n",
    "df"
   ]
  },
  {
   "cell_type": "code",
   "execution_count": null,
   "metadata": {},
   "outputs": [],
   "source": [
    "#shop = prices_per_ticker.get_group(\"SHOP\").sort_index().loc[\"2021\"]\n",
    "shop = prices_per_ticker.get_group(\"SHOP\")\n",
    "\n",
    "#plot.rcParams['figure.figsize'] = [100, 7]\n",
    "#shop[\"close\"].plot()\n",
    "\n",
    "mpf.plot(shop[\"2021-01\":\"2021-04\"], type=\"candle\",mav=(200), volume=True, figratio=(40,15), style=\"yahoo\")\n"
   ]
  },
  {
   "cell_type": "code",
   "execution_count": null,
   "metadata": {},
   "outputs": [],
   "source": [
    "\n",
    "#mpf.plot(prices_2[\"2021-01\":\"2021-04\"], type=\"candle\",mav=(20), volume=True, figratio=(40,15), style=\"yahoo\")\n",
    "mpf.plot(prices_2[\"2021\":\"2022\"], type=\"candle\",mav=(20), volume=True, figratio=(40,15), style=\"yahoo\")"
   ]
  },
  {
   "cell_type": "code",
   "execution_count": null,
   "metadata": {},
   "outputs": [],
   "source": [
    "plot_data = prices_2[\"2019\":\"2022\"]\n",
    "fig = go.Figure(data=[go.Candlestick(\n",
    "    x     = plot_data.index,\n",
    "    open  = plot_data[\"open\"],\n",
    "    high  = plot_data[\"high\"],\n",
    "    low   = plot_data[\"low\"],\n",
    "    close = plot_data[\"close\"]\n",
    ")])\n",
    "\n",
    "fig.add_trace(go.Scatter(\n",
    "    x    = plot_data.index,\n",
    "    y    = plot_data[\"SMA100\"],\n",
    "    line = dict(color = \"#e0e0e0\"),\n",
    "    name = \"SMA100\"\n",
    "))\n",
    "\n",
    "fig.update_layout(xaxis_rangeslider_visible=True, template=\"plotly_dark\")\n",
    "fig.update_layout(yaxis_title = \"Price CDN$\", xaxis_title=\"Date\")\n",
    "fig.show()"
   ]
  }
 ],
 "metadata": {
  "interpreter": {
   "hash": "f6ea743d4123cf0f72c1a3e7afb768a545bcfd9cdf4233ff0f334085311ff027"
  },
  "kernelspec": {
   "display_name": "Python 3.9.6 64-bit ('env': venv)",
   "language": "python",
   "name": "python3"
  },
  "language_info": {
   "codemirror_mode": {
    "name": "ipython",
    "version": 3
   },
   "file_extension": ".py",
   "mimetype": "text/x-python",
   "name": "python",
   "nbconvert_exporter": "python",
   "pygments_lexer": "ipython3",
   "version": "3.9.6"
  },
  "orig_nbformat": 4
 },
 "nbformat": 4,
 "nbformat_minor": 2
}
