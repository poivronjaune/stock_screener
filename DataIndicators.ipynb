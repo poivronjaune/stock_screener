{
 "cells": [
  {
   "cell_type": "markdown",
   "metadata": {},
   "source": [
    "#### Data Indicators from our Database Historic Prices"
   ]
  },
  {
   "cell_type": "code",
   "execution_count": 65,
   "metadata": {},
   "outputs": [],
   "source": [
    "import os\n",
    "import sqlite3\n",
    "import pandas as pd\n",
    "import numpy as np"
   ]
  },
  {
   "cell_type": "markdown",
   "metadata": {},
   "source": [
    "#### Load our Data  "
   ]
  },
  {
   "cell_type": "code",
   "execution_count": 2,
   "metadata": {},
   "outputs": [],
   "source": [
    "# Load from price table\n",
    "# Convert string columns to float values\n",
    "# Replace \"-\" prices with Close values\n",
    "# Remove All Volumes that have zero trading"
   ]
  },
  {
   "cell_type": "code",
   "execution_count": 80,
   "metadata": {},
   "outputs": [],
   "source": [
    "# Heavy function to retreive all prices from database (more than 5 million rows, takes many seconds to execute)\n",
    "def get_all_prices():\n",
    "    conn = sqlite3.connect(\"TSX_Quality.sqlite\")\n",
    "    sql = f\"SELECT * FROM prices_daily ORDER BY UPPER(Ticker) ASC, Date DESC\"\n",
    "    prices = pd.read_sql_query(sql, conn, index_col=\"Date\")\n",
    "    prices.index = pd.to_datetime(prices.index)\n",
    "    \n",
    "    # Clean up CSV data to make sure we have only floats and no \"-\" values\n",
    "    prices.replace(\"-\", np.NaN, inplace=True)\n",
    "    prices[\"Open\"] = prices[\"Open\"].astype(float)\n",
    "    prices[\"High\"] = prices[\"High\"].astype(float)\n",
    "    prices[\"Low\"]  = prices[\"Low\"].astype(float)\n",
    "    prices[\"Close\"]= prices[\"Close\"].astype(float)\n",
    "    \n",
    "    #prices = pd.read_sql_query(sql, conn, index_col=\"ticker\")\n",
    "    #prices.drop(\"index\", axis=1, inplace=True)\n",
    "    \n",
    "    return prices\n",
    "\n",
    "prices = get_all_prices()\n",
    "\n"
   ]
  },
  {
   "cell_type": "code",
   "execution_count": 82,
   "metadata": {},
   "outputs": [
    {
     "data": {
      "text/html": [
       "<div>\n",
       "<style scoped>\n",
       "    .dataframe tbody tr th:only-of-type {\n",
       "        vertical-align: middle;\n",
       "    }\n",
       "\n",
       "    .dataframe tbody tr th {\n",
       "        vertical-align: top;\n",
       "    }\n",
       "\n",
       "    .dataframe thead th {\n",
       "        text-align: right;\n",
       "    }\n",
       "</style>\n",
       "<table border=\"1\" class=\"dataframe\">\n",
       "  <thead>\n",
       "    <tr style=\"text-align: right;\">\n",
       "      <th></th>\n",
       "      <th>Ticker</th>\n",
       "      <th>Open</th>\n",
       "      <th>High</th>\n",
       "      <th>Low</th>\n",
       "      <th>Close</th>\n",
       "      <th>Volume</th>\n",
       "    </tr>\n",
       "    <tr>\n",
       "      <th>Date</th>\n",
       "      <th></th>\n",
       "      <th></th>\n",
       "      <th></th>\n",
       "      <th></th>\n",
       "      <th></th>\n",
       "      <th></th>\n",
       "    </tr>\n",
       "  </thead>\n",
       "  <tbody>\n",
       "    <tr>\n",
       "      <th>2022-01-07</th>\n",
       "      <td>A</td>\n",
       "      <td>0.63</td>\n",
       "      <td>0.63</td>\n",
       "      <td>0.63</td>\n",
       "      <td>0.63</td>\n",
       "      <td>0.0</td>\n",
       "    </tr>\n",
       "    <tr>\n",
       "      <th>2022-01-06</th>\n",
       "      <td>A</td>\n",
       "      <td>0.63</td>\n",
       "      <td>0.63</td>\n",
       "      <td>0.63</td>\n",
       "      <td>0.63</td>\n",
       "      <td>0.0</td>\n",
       "    </tr>\n",
       "    <tr>\n",
       "      <th>2022-01-05</th>\n",
       "      <td>A</td>\n",
       "      <td>NaN</td>\n",
       "      <td>NaN</td>\n",
       "      <td>NaN</td>\n",
       "      <td>0.63</td>\n",
       "      <td>0.0</td>\n",
       "    </tr>\n",
       "    <tr>\n",
       "      <th>2022-01-04</th>\n",
       "      <td>A</td>\n",
       "      <td>NaN</td>\n",
       "      <td>NaN</td>\n",
       "      <td>NaN</td>\n",
       "      <td>0.63</td>\n",
       "      <td>0.0</td>\n",
       "    </tr>\n",
       "    <tr>\n",
       "      <th>2021-12-31</th>\n",
       "      <td>A</td>\n",
       "      <td>NaN</td>\n",
       "      <td>NaN</td>\n",
       "      <td>NaN</td>\n",
       "      <td>0.63</td>\n",
       "      <td>0.0</td>\n",
       "    </tr>\n",
       "    <tr>\n",
       "      <th>...</th>\n",
       "      <td>...</td>\n",
       "      <td>...</td>\n",
       "      <td>...</td>\n",
       "      <td>...</td>\n",
       "      <td>...</td>\n",
       "      <td>...</td>\n",
       "    </tr>\n",
       "    <tr>\n",
       "      <th>2019-01-17</th>\n",
       "      <td>ZZZD</td>\n",
       "      <td>30.46</td>\n",
       "      <td>30.46</td>\n",
       "      <td>30.17</td>\n",
       "      <td>30.40</td>\n",
       "      <td>22735.0</td>\n",
       "    </tr>\n",
       "    <tr>\n",
       "      <th>2019-01-16</th>\n",
       "      <td>ZZZD</td>\n",
       "      <td>30.59</td>\n",
       "      <td>30.59</td>\n",
       "      <td>30.25</td>\n",
       "      <td>30.30</td>\n",
       "      <td>31847.0</td>\n",
       "    </tr>\n",
       "    <tr>\n",
       "      <th>2019-01-15</th>\n",
       "      <td>ZZZD</td>\n",
       "      <td>30.10</td>\n",
       "      <td>30.24</td>\n",
       "      <td>30.10</td>\n",
       "      <td>30.23</td>\n",
       "      <td>27469.0</td>\n",
       "    </tr>\n",
       "    <tr>\n",
       "      <th>2019-01-14</th>\n",
       "      <td>ZZZD</td>\n",
       "      <td>30.06</td>\n",
       "      <td>30.13</td>\n",
       "      <td>30.00</td>\n",
       "      <td>30.07</td>\n",
       "      <td>38167.0</td>\n",
       "    </tr>\n",
       "    <tr>\n",
       "      <th>2019-01-11</th>\n",
       "      <td>ZZZD</td>\n",
       "      <td>30.23</td>\n",
       "      <td>30.23</td>\n",
       "      <td>30.22</td>\n",
       "      <td>30.22</td>\n",
       "      <td>1135.0</td>\n",
       "    </tr>\n",
       "  </tbody>\n",
       "</table>\n",
       "<p>5963976 rows × 6 columns</p>\n",
       "</div>"
      ],
      "text/plain": [
       "           Ticker   Open   High    Low  Close   Volume\n",
       "Date                                                  \n",
       "2022-01-07      A   0.63   0.63   0.63   0.63      0.0\n",
       "2022-01-06      A   0.63   0.63   0.63   0.63      0.0\n",
       "2022-01-05      A    NaN    NaN    NaN   0.63      0.0\n",
       "2022-01-04      A    NaN    NaN    NaN   0.63      0.0\n",
       "2021-12-31      A    NaN    NaN    NaN   0.63      0.0\n",
       "...           ...    ...    ...    ...    ...      ...\n",
       "2019-01-17   ZZZD  30.46  30.46  30.17  30.40  22735.0\n",
       "2019-01-16   ZZZD  30.59  30.59  30.25  30.30  31847.0\n",
       "2019-01-15   ZZZD  30.10  30.24  30.10  30.23  27469.0\n",
       "2019-01-14   ZZZD  30.06  30.13  30.00  30.07  38167.0\n",
       "2019-01-11   ZZZD  30.23  30.23  30.22  30.22   1135.0\n",
       "\n",
       "[5963976 rows x 6 columns]"
      ]
     },
     "execution_count": 82,
     "metadata": {},
     "output_type": "execute_result"
    }
   ],
   "source": [
    "prices.dtypes\n",
    "prices\n"
   ]
  },
  {
   "cell_type": "code",
   "execution_count": 99,
   "metadata": {},
   "outputs": [
    {
     "data": {
      "text/plain": [
       "Date\n",
       "2022-01-07        NaN\n",
       "2022-01-06        NaN\n",
       "2022-01-05        NaN\n",
       "2022-01-04        NaN\n",
       "2021-12-31        NaN\n",
       "               ...   \n",
       "2014-09-01    2.09255\n",
       "2014-08-29    1.92285\n",
       "2014-08-28    1.75580\n",
       "2014-08-27    1.58505\n",
       "2014-08-26    1.41960\n",
       "Name: Close, Length: 1868, dtype: float64"
      ]
     },
     "execution_count": 99,
     "metadata": {},
     "output_type": "execute_result"
    }
   ],
   "source": [
    "prices_per_ticker = prices.groupby([\"Ticker\"])\n",
    "prices_per_ticker.get_group(\"SHOP\")\n",
    "#prices_per_ticker.get_group(\"SHOP\")[\"Close\"].rolling(window=200).mean()\n"
   ]
  },
  {
   "cell_type": "code",
   "execution_count": null,
   "metadata": {},
   "outputs": [],
   "source": []
  }
 ],
 "metadata": {
  "interpreter": {
   "hash": "f6ea743d4123cf0f72c1a3e7afb768a545bcfd9cdf4233ff0f334085311ff027"
  },
  "kernelspec": {
   "display_name": "Python 3.9.6 64-bit ('env': venv)",
   "language": "python",
   "name": "python3"
  },
  "language_info": {
   "codemirror_mode": {
    "name": "ipython",
    "version": 3
   },
   "file_extension": ".py",
   "mimetype": "text/x-python",
   "name": "python",
   "nbconvert_exporter": "python",
   "pygments_lexer": "ipython3",
   "version": "3.9.6"
  },
  "orig_nbformat": 4
 },
 "nbformat": 4,
 "nbformat_minor": 2
}
