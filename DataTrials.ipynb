{
 "cells": [
  {
   "cell_type": "markdown",
   "metadata": {},
   "source": [
    "# Create sqlite database from CSV files  \n",
    "#### Use at our own risk"
   ]
  },
  {
   "cell_type": "code",
   "execution_count": null,
   "metadata": {},
   "outputs": [],
   "source": [
    "# Use as is, you need to know what you are doing to prevent overwriting important data - you have been warned\n",
    "import sqlite3\n",
    "import pandas as pd\n",
    "\n",
    "# Change db_name to what you need\n",
    "db_name = \"z_newdb.sqlite\"\n",
    "\n",
    "connection = sqlite3.connect(db_name)\n",
    "symbols_table = \"symbols\"\n",
    "symbols_df_from_csv = pd.read_csv(\"symbols.csv\")\n",
    "symbols_df_from_csv.drop([\"Unnamed: 0\"], axis=1, inplace=True)\n",
    "symbols_df_from_csv.to_sql(\"symbols\", connection)\n",
    "connection.close()\n"
   ]
  },
  {
   "cell_type": "code",
   "execution_count": null,
   "metadata": {},
   "outputs": [],
   "source": [
    "import sqlite3\n",
    "import pandas as pd\n",
    "\n",
    "# Make sur the first run has no prices_daily table or it will append\n",
    "# Repeat for each year you want to load\n",
    "csv_file = \"prices_2014.csv\"\n",
    "\n",
    "connection = sqlite3.connect(db_name)  # db_name is initialized in previous cell\n",
    "prices_table = \"prices_daily\"\n",
    "prices_df_from_csv = pd.read_csv(csv_file)\n",
    "prices_df_from_csv.to_sql(\"prices_daily\", connection, if_exists=\"append\")\n",
    "connection.close()"
   ]
  },
  {
   "cell_type": "markdown",
   "metadata": {},
   "source": [
    "## Data Tools to Extract and Build a Historical Data Base of TSX Daily Prices"
   ]
  },
  {
   "cell_type": "code",
   "execution_count": null,
   "metadata": {},
   "outputs": [],
   "source": [
    "# Load required python packages\n",
    "# https://www.selenium.dev/selenium/docs/api/py/api.html\n",
    "import sqlite3\n",
    "import pandas as pd\n",
    "import time\n",
    "from bs4 import BeautifulSoup\n",
    "from lxml import etree\n",
    "from selenium import webdriver\n",
    "from selenium.webdriver.common.by import By\n",
    "from selenium.webdriver.support.ui import WebDriverWait\n",
    "from selenium.webdriver.common.action_chains import ActionChains\n",
    "from selenium.webdriver.support import expected_conditions as EC\n",
    "from selenium.common.exceptions import TimeoutException"
   ]
  },
  {
   "cell_type": "code",
   "execution_count": null,
   "metadata": {},
   "outputs": [],
   "source": [
    "# Connect to yahoo populated price database that had one table per ticker symbol (not practical)\n",
    "# Merge all yahoo extracted data to the new TSX_Prices.sqlite database for futur use\n",
    "con1 = sqlite3.connect(\"TSX_Data.sqlite\")\n",
    "table = \"tsx_symbols\"\n",
    "sql_request = f\"SELECT * FROM '{table}'\"\n",
    "symbols_df = pd.read_sql_query(sql_request, con1)\n",
    "symbols_df.drop(['level_0','index'], axis=1, inplace=True)"
   ]
  },
  {
   "cell_type": "code",
   "execution_count": null,
   "metadata": {},
   "outputs": [],
   "source": [
    "# Connect to the new Daily Prices Database\n",
    "# Transfer the scraped ticker symbols from TSX to thi snew database  (uncomment for first run)\n",
    "con2 = sqlite3.connect(\"TSX_Prices.sqlite\")\n",
    "#symbols_df.to_sql(\"symbols\", con2) "
   ]
  },
  {
   "cell_type": "markdown",
   "metadata": {},
   "source": [
    "## DON'T RUN THIS FUNCTION"
   ]
  },
  {
   "cell_type": "code",
   "execution_count": null,
   "metadata": {},
   "outputs": [],
   "source": [
    "# DO NOT RUN BY DEFAULT, \n",
    "# ONLY USE if you deleted TSX_Prices.sqlite\n",
    "# Merge all individual tables with prices to a common daily price table and add the ticker symbol to each day of data\n",
    "for symbol, ticker in zip(symbols_df[\"yahoo\"],symbols_df[\"ticker\"]):\n",
    "    table_name = symbol\n",
    "    sql1 = f\"SELECT * FROM '{table_name}'\"\n",
    "    prices_df = pd.read_sql_query(sql1, con1)\n",
    "    prices_df.drop(['index'], axis=1, inplace=True)\n",
    "    if not prices_df[\"Volume\"].isnull().any():\n",
    "        prices_df[\"Ticker\"] = ticker\n",
    "        prices_df = prices_df.reindex([\"Date\",\"Ticker\",\"Open\",\"High\",\"Low\",\"Close\",\"Volume\"],axis=1)\n",
    "        prices_df.to_sql(\"prices_daily\", con2, if_exists=\"append\")\n"
   ]
  },
  {
   "cell_type": "code",
   "execution_count": null,
   "metadata": {},
   "outputs": [],
   "source": [
    "# Utilty function to load CSV files scraped from TSX Trading history web page into our new Data Base\n",
    "def add_csv_data_to_daily_prices(symbol_to_load):\n",
    "    # Load CSV file of Daily Data scraped from TMX web site\n",
    "    # Clean the data make sure all rows are unique\n",
    "    # Structure the data according to database table structure\n",
    "    # Load existing data from daily_prices for symbol\n",
    "    # Merge cleaned data to existing data\n",
    "    # Wipe all duplicate dates\n",
    "    # if new data is available, append to existing daily_prices\n",
    "\n",
    "\n",
    "    # Load a CSV of Daily Price Data and make sure no duplicates exist\n",
    "    #symbol_to_load = \"new\"\n",
    "    filename = f\"{symbol_to_load}.csv\"\n",
    "    data = pd.read_csv(f\"CSV\\{filename}\")\n",
    "    # Clean the data make sure all new data rows are unique\n",
    "    if data.Date.is_unique == False:\n",
    "        data_cleaned = data[~data.Date.duplicated()]\n",
    "    else:\n",
    "        data_cleaned = data\n",
    "    #print(f\"({data.shape[0]}, {data_cleaned.shape[0]})\")\n",
    "\n",
    "    # Structure the data according to database table structure\n",
    "    data_cleaned.drop(['Unnamed: 0', 'VWAP ($)', 'Change ($)', 'Trade Value', '# Trades', 'Change (%)'], axis=1, inplace=True)\n",
    "    data_cleaned.rename(columns={'Open ($)': 'Open', 'High ($)': 'High', 'Low ($)': 'Low', 'Close ($)': 'Close'  }, inplace=True)\n",
    "    data_cleaned[\"Ticker\"] = symbol_to_load\n",
    "    data_cleaned['Date'] = pd.to_datetime(data_cleaned[\"Date\"], infer_datetime_format=True)\n",
    "    data_cleaned = data_cleaned.reindex([\"Date\",\"Ticker\",\"Open\",\"High\",\"Low\",\"Close\",\"Volume\"],axis=1)\n",
    "\n",
    "    # Load existing data from daily_prices for symbol\n",
    "    database = \"TSX_Prices.sqlite\"\n",
    "    con3 = sqlite3.connect(database)\n",
    "    existing_prices_df = pd.read_sql(f\"SELECT * FROM 'prices_daily' WHERE Ticker='{symbol_to_load}'\", con3)\n",
    "\n",
    "    # Keep data_cleaned prices that are not in existing_prices (using Date column)\n",
    "    #data_to_add = data_cleaned[~(data_cleaned['Date'].isin(existing_prices_df['Date']))].reset_index(drop=True)\n",
    "    data_to_add = data_cleaned[~(data_cleaned['Date'].isin(existing_prices_df['Date']))].reset_index(drop=True)\n",
    "    # Append Data to database\n",
    "    data_to_add.to_sql(\"prices_daily\", con3, if_exists=\"append\")\n"
   ]
  },
  {
   "cell_type": "markdown",
   "metadata": {},
   "source": [
    "## Trade history data reader"
   ]
  },
  {
   "cell_type": "code",
   "execution_count": 4,
   "metadata": {},
   "outputs": [
    {
     "name": "stderr",
     "output_type": "stream",
     "text": [
      "C:\\Users\\poivr\\AppData\\Local\\Temp/ipykernel_27680/3171567670.py:8: DeprecationWarning: executable_path has been deprecated, please pass in a Service object\n",
      "  driver = webdriver.Chrome(executable_path=CHROME_DRIVER_LOCATION,options=OPTIONS)\n"
     ]
    }
   ],
   "source": [
    "# Setup Selenium browser\n",
    "CHROME_DRIVER_LOCATION = \"chromedriver.exe\"\n",
    "OPTIONS = webdriver.ChromeOptions()\n",
    "OPTIONS.add_argument('--ignore-certicate-errors')\n",
    "OPTIONS.add_argument('--incognito')\n",
    "#OPTIONS.add_argument('--headless')\n",
    "OPTIONS.add_experimental_option('excludeSwitches', ['enable-logging'])\n",
    "driver = webdriver.Chrome(executable_path=CHROME_DRIVER_LOCATION,options=OPTIONS)\n",
    "#driver.implicitly_wait(10)\n",
    "wait = WebDriverWait(driver, 10)"
   ]
  },
  {
   "cell_type": "code",
   "execution_count": 5,
   "metadata": {},
   "outputs": [],
   "source": [
    "import warnings\n",
    "warnings.filterwarnings(\"ignore\", category=DeprecationWarning) "
   ]
  },
  {
   "cell_type": "code",
   "execution_count": null,
   "metadata": {},
   "outputs": [],
   "source": [
    "def extract_trading_history(symbol, pages_to_read, msg1):\n",
    "    tmx_url = f\"https://money.tmx.com/en/quote/{symbol}/trade-history?selectedTab=price-history\"\n",
    "    driver.get(tmx_url)\n",
    "    header_flag = True\n",
    "    #username = input(\"Please click in web page then ENTER\")\n",
    "    time.sleep(5)\n",
    "\n",
    "    # CLOSE THE Freaking AD at bottom of screen to expose the next button\n",
    "    ad_closed = False\n",
    "    try:\n",
    "        #close_ad = WebDriverWait(driver, 5).until(presence_of_element_located(By.ID('ssrt-close-anchor-button')))\n",
    "        close_ad = WebDriverWait(driver, 5).until(EC.presence_of_element_located((By.ID, 'ssrt-close-anchor-button')))\n",
    "        print(type(close_ad))\n",
    "        close_ad.click()\n",
    "        ad_closed = True\n",
    "    except Exception as e:\n",
    "        print(f\"Unable to clase_ads : {e}\")   \n",
    "\n",
    "    if ad_closed:\n",
    "        # Set to 45 for a good 2 years back data\n",
    "        fin_loop = pages_to_read\n",
    "        prev_date = \"None\"\n",
    "        for i in range(1,fin_loop):\n",
    "            html_page = driver.page_source\n",
    "            try:\n",
    "                data = pd.read_html(html_page)\n",
    "                prices_df = data[0]\n",
    "                #print(f\"Data extracted: {i}, date at bottom : {prices_df['Date'].iloc[-1]}\")\n",
    "                print(f\"{msg1} => {symbol} [{i}/{fin_loop}] :Extracted date: {prices_df['Date'].iloc[-1]}, Previous Date Extracted: {prev_date}\")\n",
    "                filename = f\"CSV\\{symbol}.csv\"\n",
    "                prices_df.to_csv(filename, mode='a', header=header_flag)\n",
    "                header_flag = False\n",
    "                prev_date = prices_df['Date'].iloc[-1]        \n",
    "                # Find the next button and click it\n",
    "                btn_next = driver.find_element(By.XPATH, \"//button[@data-testid='next-button']\")\n",
    "                btn_next.click() \n",
    "            except:\n",
    "                i = fin_loop\n",
    "    \n",
    "    print(\"End of extraction\")            "
   ]
  },
  {
   "cell_type": "code",
   "execution_count": null,
   "metadata": {},
   "outputs": [],
   "source": [
    "# Get a bunch of ticker symbols that don't have any data\n",
    "letter = \"A\" \n",
    "some_symbols_df = pd.read_sql_query(f\"SELECT * FROM 'symbols' WHERE ticker LIKE '{letter}%' ORDER BY ticker ASC\", con2)\n",
    "some_symbols_df\n",
    "tickers_to_scrap = []\n",
    "for symbol_to_analyse, yahoo in zip(some_symbols_df['ticker'],some_symbols_df['yahoo']):\n",
    "    data_df = pd.read_sql_query(f\"SELECT * FROM '{yahoo}'\", con1)\n",
    "    no_data_found = data_df['Volume'].isnull().any()\n",
    "    if no_data_found:\n",
    "        tickers_to_scrap.append(symbol_to_analyse)\n",
    "print(len(tickers_to_scrap)) "
   ]
  },
  {
   "cell_type": "code",
   "execution_count": null,
   "metadata": {},
   "outputs": [],
   "source": [
    "str2 = \"\""
   ]
  },
  {
   "cell_type": "code",
   "execution_count": null,
   "metadata": {},
   "outputs": [],
   "source": [
    "# GET all tickers from prices_daily that we want to update\n",
    "sym4 = \"Z\"\n",
    "con4 = sqlite3.connect(\"TSX_Prices.sqlite\")\n",
    "cursor4 = con4.cursor()\n",
    "#sql4 = \"SELECT Ticker, min(Date) as start_date, max(Date) as end_date, count(Ticker) as price_rows FROM prices_daily WHERE ticker LIKE 'A%' ORDER BY ticker ASC\"\n",
    "sql4 = f\"SELECT Ticker FROM prices_daily WHERE ticker LIKE '{sym4}%' GROUP BY Ticker ORDER BY ticker ASC\"\n",
    "prices_data4 = pd.read_sql_query(sql4, con4)\n",
    "tickers_to_scrap =prices_data4[\"Ticker\"].to_list()"
   ]
  },
  {
   "cell_type": "code",
   "execution_count": null,
   "metadata": {},
   "outputs": [],
   "source": [
    "str2 = \"\"\n",
    "for sym1 in tickers_to_scrap:\n",
    "    str2 += f\"'{sym1}',\"\n",
    "print(str2[:-1])\n",
    "print(len(tickers_to_scrap))"
   ]
  },
  {
   "cell_type": "code",
   "execution_count": null,
   "metadata": {},
   "outputs": [],
   "source": [
    "# Manually launch a daily price extraction\n",
    "#tickers = ['QAH','QBB','QBR.A','QBR.B','QBTC','QBTC.U','QBTL','QCD','QCE','QCLN','QCN','QDX','QDXB','QDXH','QEBH','QEBL','QEC','QEM','QETH.U','QETH.UN','QHY','QIE','QINF','QMA','QMY','QQC','QQC.F','QQEQ','QQEQ.F','QQJR','QQJR.F','QRET','QSB','QSP.UN','QSR','QTRH','QUB','QUIG','QUS','QUU','QUU.U','QXM','R.P','RA.UN','RAK','RATE','RAV.UN','RAY.A','RAY.B','RBA','RBDI','RBN.UN','RBNK','RBO','RBOT','RBOT.U','RBX','RBZ.P','RCD','RCE','RCG','RCG.PR.B','RCH','RCI.A','RCI.B','RCK','RCO.UN','RCR.P','RCT','RDG','RDL','RDS','RDU','RE','REAL','REAX','REBL.P','RECO','RECO.WT.A','RECP','REG','REI.UN','REIT','REKO','RENT.P','RET','RET.A','REVO','REX','RFC','RFP','RG','RGD','RGI','RHC','RHC.WT','RHT','RIB.UN','RID','RID.U','RIDH','RIDR.P','RIE','RIE.U','RIEH','RIFI','RIGU','RIIN','RIO','RIRA','RIT','RIWI','RJX.A','RK','RKR','RKV','RLB','RLP','RLP.DB.B','RLT.P','RLV','RLYG','RMD','RMI','RML','RMO','RMS.P','RNP','RNW','ROCK','ROI','ROK','ROMJ','ROMJ.WT','ROOF','ROOF.WT','ROOT','ROS','ROVR','ROX','RP','RPC','RPD','RPD.U','RPDH','RPF','RPI.UN','RPP','RPSB','RPX','RQI','RQJ','RQK','RQL','RQN','RQO','RQP','RR','RRI','RRR.UN','RRS','RS','RS.PR.A','RSE.P','RSI','RSI.DB.E','RSI.DB.F','RSLV','RSS','RSV','RTG','RTH','RTI','RTM','RUBH','RUBY','RUBY.U','RUD','RUD.U','RUDH','RUE','RUE.U','RUEH','RUG','RUM','RUP','RUS','RUSB','RUSB.U','RVG','RVX','RVX.WT.A','RW','RWC','RWE','RWE.B','RWU','RWU.B','RWW','RWW.B','RWX','RWX.B','RX','RXD','RXD.U','RXE','RXE.U','RY','RY.PR.H','RY.PR.J','RY.PR.M','RY.PR.N','RY.PR.O','RY.PR.P','RY.PR.S','RY.PR.Z','RYE','RYO','RYR','RYU','RZE','RZZ','S','SAAS.P','SAE','SAG','SAH','SAM','SAO','SAP','SARG.P','SAT','SAU','SAWC.P','SAY','SB','SBB','SBBC','SBC','SBC.PR.A','SBI','SBM','SBN','SBN.PR.A','SBR','SBT','SBT.B','SBT.U','SCAN','SCD','SCL','SCLT','SCOT','SCPO.UN','SCPT.A','SCPT.U','SCT','SCY','SCZ','SDC','SDE','SDI','SDR','SEA','SEB','SEC','SEI','SES','SEV','SFC','SFC.WT','SFD','SFI','SFR','SFT','SFTC','SFX','SGA','SGC','SGE','SGI','SGMD','SGN','SGO','SGQ','SGR.U','SGR.UN','SGU','SGY','SGY.DB','SGY.DB.A','SGZ','SHL','SHLE','SHOP','SHRP','SIA','SIC','SID','SIE','SIH.UN','SII','SIL','SILV','SIQ','SIS','SIXT','SJ','SJL','SJR.A','SJR.B','SKE','SKK','SKP','SKRR','SKYG','SKYY','SLF','SLF.PR.A','SLF.PR.B','SLF.PR.C','SLF.PR.D','SLF.PR.E','SLF.PR.G','SLF.PR.H','SLF.PR.I','SLF.PR.J','SLF.PR.K','SLG','SLHG','SLI','SLMN','SLR','SLS','SLVR','SM','SMA','SMAR.P','SMC','SMD','SME','SML','SMN','SMP','SMR','SMT','SMU.UN','SMY','SN','SNC','SNF','SNG','SNI.PR.A','SNM','SNS','SNV','SOC','SOCK','SOI','SOIL','SOIL.WT','SOLG','SOLR','SOMA','SOO.P','SOT.DB','SOT.UN','SOU','SOY','SPA','SPB','SPC','SPD','SPG','SPG.WT','SPI','SPN','SPOT','SPP','SPPP','SPPP.U','SPS.A','SPX','SQD','SQG','SR','SRA','SRC','SRE','SRES','SRG','SRI','SRL','SRU.UN','SRV.UN','SRX','SSA','SSE','SSF.UN','SSL','SSRM','SSS.P','SSSS.P','SSV','SSVR','SSX.P','STA','STAK.P','STC','STCK','STCK.WT','STE','STEP','STG','STGO','STH','STLC','STMP','STN','STND','STNG','STPL','STRR','STRR.WT','STS','STU','STUD','STUV','SU','SUGR','SUGR.DB','SUGR.WR','SUGR.WS','SUGR.WT','SUI','SUP','SURG','SVA','SVB','SVE','SVG','SVI','SVI.DB','SVI.DB.B','SVM','SVR','SVR.C','SVS','SVTN','SW','SWA','SWLF','SWP','SXI','SXL','SXP','SYH','SYLD','SYZ','SZLS','SZLS.WS','SZLS.WT','SZM']\n",
    "tickers = tickers_to_scrap\n",
    "pages = 2 # NUmber of TMX Trade history to scrap back\n",
    "i = 1\n",
    "total = len(tickers)\n",
    "for ticker_to_extract in tickers:\n",
    "    #ticker_to_extract = \"AVNT\"\n",
    "    try:\n",
    "        msg1 = f\"[{i}/{total} : {ticker_to_extract}]\"\n",
    "        extract_trading_history(ticker_to_extract, pages, msg1)\n",
    "        add_csv_data_to_daily_prices(ticker_to_extract)\n",
    "    except:\n",
    "        pass\n",
    "    i += 1\n"
   ]
  },
  {
   "cell_type": "code",
   "execution_count": null,
   "metadata": {},
   "outputs": [],
   "source": [
    "driver.quit()"
   ]
  },
  {
   "cell_type": "code",
   "execution_count": null,
   "metadata": {},
   "outputs": [],
   "source": [
    "con5 = sqlite3.connect(\"TSX_Prices.sqlite\")\n",
    "cursor5 = con5.cursor()\n",
    "sql5 = \"SELECT ticker FROM symbols ORDER BY ticker ASC\"\n",
    "prices_data5 = pd.read_sql_query(sql5, con5)\n",
    "prices_data5"
   ]
  },
  {
   "cell_type": "code",
   "execution_count": null,
   "metadata": {},
   "outputs": [],
   "source": [
    "con4 = sqlite3.connect(\"TSX_Prices.sqlite\")\n",
    "cursor4 = con4.cursor()\n",
    "#sql4 = \"SELECT Ticker, min(Date) as start_date, max(Date) as end_date, count(Ticker) as price_rows FROM prices_daily WHERE ticker LIKE 'A%' ORDER BY ticker ASC\"\n",
    "#sql4 = \"SELECT Ticker, count(Ticker), min(Date) as start_date, max(Date) as end_date FROM prices_daily WHERE ticker LIKE 'A%' GROUP BY Ticker ORDER BY ticker ASC\"\n",
    "sql4 = \"SELECT Ticker, count(Ticker) FROM prices_daily GROUP BY Ticker ORDER BY Ticker ASC\"\n",
    "prices_data4 = pd.read_sql_query(sql4, con4)\n",
    "prices_data4[0:150]"
   ]
  },
  {
   "cell_type": "code",
   "execution_count": null,
   "metadata": {},
   "outputs": [],
   "source": [
    "# Prices statistics\n",
    "cursor = con2.cursor()\n",
    "# cursor.execute(\"SELECT count(*) FROM 'prices_daily'\")                                             # Count all rows of data in prices_daily\n",
    "# cursor.execute(\"SELECT DISTINCT Ticker, count() FROM 'prices_daily' GROUP BY Ticker\")             # Count rows of prices for all distinct tickers from prices_daily\n",
    "cursor.execute(\"SELECT COUNT (DISTINCT Ticker) FROM 'prices_daily'\")                                # Count unique ticker symbols with prices from prices_daily\n",
    "cursor.fetchone()[0]"
   ]
  },
  {
   "cell_type": "code",
   "execution_count": null,
   "metadata": {},
   "outputs": [],
   "source": [
    "#self.full_path = os.path.abspath(self.db)\n",
    "#drivepath, self.filename = os.path.split(self.db)\n",
    "import os.path\n",
    "n1 = \"TSX_Prices.sqlite\"\n",
    "full_path = os.path.abspath(n1)\n",
    "drivepath, f1 = os.path.split(full_path)\n",
    "drive, p1 = os.path.splitdrive(drivepath)\n",
    "(drivepath, f1, drive, p1)\n"
   ]
  },
  {
   "cell_type": "code",
   "execution_count": null,
   "metadata": {},
   "outputs": [],
   "source": [
    "# Extract all tickers and ompany names and count the number price_rows available for each ticker, inlcuding star and end dates for each sorted by decreasing count of price_rows\n",
    "con3 = sqlite3.connect(\"TSX_Prices.sqlite\")\n",
    "cursor2 = con3.cursor()\n",
    "sql3 = \"SELECT DISTINCT prices_daily.Ticker, symbols.name, min(prices_daily.Date) as start_date, max(prices_daily.Date) as end_date, count(prices_daily.Ticker) as price_rows FROM prices_daily INNER JOIN symbols ON prices_daily.Ticker = symbols.ticker GROUP BY prices_daily.ticker ORDER BY price_rows\"\n",
    "prices_data1 = pd.read_sql_query(sql3, con3)\n",
    "prices_data1['start_date'] = pd.to_datetime(prices_data1['start_date']).dt.normalize()\n",
    "prices_data1['end_date'] = pd.to_datetime(prices_data1['end_date']).dt.normalize()\n",
    "prices_data1"
   ]
  },
  {
   "cell_type": "code",
   "execution_count": 3,
   "metadata": {},
   "outputs": [
    {
     "data": {
      "text/plain": [
       "datetime.date(2021, 12, 1)"
      ]
     },
     "execution_count": 3,
     "metadata": {},
     "output_type": "execute_result"
    }
   ],
   "source": [
    "import datetime as datetime\n",
    "datetime.date.today()"
   ]
  },
  {
   "cell_type": "code",
   "execution_count": 12,
   "metadata": {},
   "outputs": [
    {
     "name": "stdout",
     "output_type": "stream",
     "text": [
      "None\n"
     ]
    }
   ],
   "source": [
    "import sqlite3\n",
    "import pandas as pd\n",
    "import time\n",
    "con6 = sqlite3.connect(\"TSX_Prices.sqlite\")\n",
    "cursor6 = con6.cursor()\n",
    "symbol_to_load = \"BBQW\"\n",
    "sql6 = f\"SELECT * FROM 'prices_daily' WHERE Ticker='{symbol_to_load}' ORDER BY Date DESC LIMIT 1\"\n",
    "prices_data6 = pd.read_sql_query(sql6, con6)\n",
    "prices_data6\n",
    "try:\n",
    "    last_date = prices_data6.loc[0][\"Date\"]\n",
    "except KeyError as e:\n",
    "    last_date = None\n",
    "print(last_date)\n"
   ]
  },
  {
   "cell_type": "markdown",
   "metadata": {},
   "source": [
    "# Prices export to CSV"
   ]
  },
  {
   "cell_type": "code",
   "execution_count": 7,
   "metadata": {},
   "outputs": [],
   "source": [
    "def get_prices_data(ticker):\n",
    "    con7 = sqlite3.connect(\"TSX_Prices.sqlite\")\n",
    "    cursor7 = con7.cursor()\n",
    "    sql7 = f\"SELECT * FROM 'prices_daily' WHERE Ticker='{ticker}' ORDER BY Date DESC\"\n",
    "    prices_data7 = pd.read_sql_query(sql7, con7)\n",
    "    prices_data7.drop(labels=\"index\", axis=1, inplace=True)\n",
    "    con7.close()\n",
    "    return prices_data7"
   ]
  },
  {
   "cell_type": "code",
   "execution_count": 3,
   "metadata": {},
   "outputs": [],
   "source": [
    "# Export SQLite3 Symbols to CSV file for github push\n",
    "import pandas as pd\n",
    "import sqlite3\n",
    "\n",
    "conn = sqlite3.connect(\"TSX_Prices.sqlite\")\n",
    "sql = f\"SELECT * FROM 'symbols' ORDER BY ticker ASC\"\n",
    "data = pd.read_sql_query(sql, conn)\n",
    "data.drop(labels=\"index\", axis=1, inplace=True)\n",
    "data.to_csv(\"symbols.csv\", index=\"False\")\n"
   ]
  },
  {
   "cell_type": "code",
   "execution_count": 4,
   "metadata": {},
   "outputs": [],
   "source": [
    "# Export SQLite3 Prices to CSV file for github push using yearly export\n",
    "import pandas as pd\n",
    "import sqlite3\n",
    "\n",
    "year=\"2021\"\n",
    "conn = sqlite3.connect(\"TSX_Prices.sqlite\")\n",
    "sql = f\"SELECT * FROM 'prices_daily' WHERE Date LIKE '{year}%' ORDER BY ticker ASC\"\n",
    "data = pd.read_sql_query(sql, conn)\n",
    "data.drop(labels=\"index\", axis=1, inplace=True)\n",
    "data.to_csv(f\"prices_{year}.csv\", index=False)"
   ]
  },
  {
   "cell_type": "markdown",
   "metadata": {},
   "source": [
    "# TSX Stocks lisitings Datareader"
   ]
  },
  {
   "cell_type": "code",
   "execution_count": 25,
   "metadata": {},
   "outputs": [],
   "source": [
    "# https://www.tsx.com/listings/listing-with-us/listed-company-directory\n",
    "#### Curently Listed, Recently Listed, Recently Delisted, Suspended\n",
    "#### Available for TSX and TSXV\n",
    "import pandas as pd\n",
    "import sqlite3\n",
    "import warnings\n",
    "from selenium import webdriver\n",
    "from selenium.webdriver.common.by import By\n",
    "from selenium.webdriver.common.keys import Keys\n",
    "from selenium.webdriver.support.ui import WebDriverWait\n",
    "from selenium.webdriver.common.action_chains import ActionChains\n",
    "from selenium.webdriver.support import expected_conditions as EC\n",
    "from selenium.common.exceptions import TimeoutException\n",
    "\n",
    "\n",
    "warnings.filterwarnings(\"ignore\", category=DeprecationWarning) "
   ]
  },
  {
   "cell_type": "code",
   "execution_count": 110,
   "metadata": {},
   "outputs": [],
   "source": [
    "# Setup Selenium browser\n",
    "CHROME_DRIVER_LOCATION = \"chromedriver.exe\"\n",
    "OPTIONS = webdriver.ChromeOptions()\n",
    "OPTIONS.add_argument('--ignore-certicate-errors')\n",
    "OPTIONS.add_argument('--incognito')\n",
    "#OPTIONS.add_argument('--headless')\n",
    "OPTIONS.add_experimental_option('excludeSwitches', ['enable-logging'])\n",
    "driver = webdriver.Chrome(executable_path=CHROME_DRIVER_LOCATION,options=OPTIONS)\n",
    "#driver.implicitly_wait(10)\n",
    "wait = WebDriverWait(driver, 10)"
   ]
  },
  {
   "cell_type": "code",
   "execution_count": 111,
   "metadata": {},
   "outputs": [],
   "source": [
    "def tickers_currenlty_listed(letter, exchange):\n",
    "    tsx_url = f\"https://www.tsx.com/listings/listing-with-us/listed-company-directory\"\n",
    "    driver.get(tsx_url)\n",
    "    \n",
    "    # Set exchange for page\n",
    "    try:\n",
    "        btn_switch = WebDriverWait(driver, 5).until(EC.presence_of_element_located((By.ID, 'exchange-toggle')))\n",
    "        if exchange == \"tsx\" and btn_switch.get_attribute(\"class\") == \"btn-switch invert\":\n",
    "            btn_switch.click()\n",
    "        if exchange == \"tsxv\" and btn_switch.get_attribute(\"class\") == \"btn-switch\":\n",
    "            btn_switch.click()\n",
    "    except Exception as e:\n",
    "        print(f\"Unable to locate exchange-toggle button, \",e)\n",
    "        return {}\n",
    "\n",
    "    # Push letter+ENTER in search field\n",
    "    try:\n",
    "        search = WebDriverWait(driver, 5).until(EC.presence_of_element_located((By.ID, 'query')))\n",
    "        search.send_keys(letter + Keys.ENTER)\n",
    "    except Exception as e:\n",
    "        print(f\"Unable to send_keys in inut field [{letter} ], \",e)\n",
    "        return {}    \n",
    "\n",
    "    # Extract data using selenium ad create a list\n",
    "    try:\n",
    "        #WebDriverWait(driver, 5).until(EC.presence_of_element_located((By.XPATH, \"//*[text()='Symbol']\")))\n",
    "        result_data_xpath = '//*[@id=\"tresults\"]/tbody'\n",
    "        WebDriverWait(driver, 5).until( EC.visibility_of_element_located((By.XPATH, result_data_xpath)))\n",
    "        datagrid = driver.find_element_by_xpath(result_data_xpath)\n",
    "    except Exception as e:\n",
    "        print(f\"Unable to locate HTML Table containing listing data, \",e)\n",
    "        return {}    \n",
    "\n",
    "    data_rows = datagrid.find_elements(By.TAG_NAME, \"tr\")\n",
    "    data = []\n",
    "    for row in data_rows:\n",
    "        cells = row.find_elements(By.TAG_NAME, \"td\")\n",
    "        # Skip the line with no ticker symbol\n",
    "        if (cells[1].text != \"\"):\n",
    "            ticker = cells[1].text\n",
    "            name = cells[0].text\n",
    "            url = f\"https://money.tmx.com/en/quote/{ticker}\"\n",
    "            row_info = {\"ticker\": ticker, \"company\":name.strip(), \"exchange\": exchange, \"url\":url, \"yahoo\":\"-\"}\n",
    "            data.append(row_info)\n",
    "\n",
    "    return data\n",
    "    "
   ]
  },
  {
   "cell_type": "code",
   "execution_count": null,
   "metadata": {},
   "outputs": [],
   "source": [
    "data = tickers_currenlty_listed(\"P\", \"tsx\")\n",
    "#driver.quit()\n",
    "data"
   ]
  },
  {
   "cell_type": "markdown",
   "metadata": {},
   "source": [
    "# IMPORT AND TEST Stocksdata.py functions"
   ]
  },
  {
   "cell_type": "code",
   "execution_count": 9,
   "metadata": {},
   "outputs": [],
   "source": [
    "from stocksdata import *\n",
    "stocks_data = StocksData(db=\".\\TSX_Prices.sqlite\")"
   ]
  },
  {
   "cell_type": "code",
   "execution_count": null,
   "metadata": {},
   "outputs": [],
   "source": [
    "df1 = stocks_data.count_prices_per_ticker(count=True)\n",
    "df1.sort_values('price_rows')"
   ]
  },
  {
   "cell_type": "code",
   "execution_count": 10,
   "metadata": {},
   "outputs": [
    {
     "name": "stdout",
     "output_type": "stream",
     "text": [
      "Ready to insert ZZZ999, Bidon tout court, tsx\n"
     ]
    }
   ],
   "source": [
    "stocks_data.update_symbol(\"ZZZ999\",\"Bidon tout court\",\"tsx\")\n"
   ]
  },
  {
   "cell_type": "code",
   "execution_count": 16,
   "metadata": {},
   "outputs": [
    {
     "data": {
      "text/html": [
       "<div>\n",
       "<style scoped>\n",
       "    .dataframe tbody tr th:only-of-type {\n",
       "        vertical-align: middle;\n",
       "    }\n",
       "\n",
       "    .dataframe tbody tr th {\n",
       "        vertical-align: top;\n",
       "    }\n",
       "\n",
       "    .dataframe thead th {\n",
       "        text-align: right;\n",
       "    }\n",
       "</style>\n",
       "<table border=\"1\" class=\"dataframe\">\n",
       "  <thead>\n",
       "    <tr style=\"text-align: right;\">\n",
       "      <th></th>\n",
       "      <th>ticker</th>\n",
       "      <th>name</th>\n",
       "      <th>exchange</th>\n",
       "      <th>url</th>\n",
       "      <th>yahoo</th>\n",
       "    </tr>\n",
       "  </thead>\n",
       "  <tbody>\n",
       "    <tr>\n",
       "      <th>0</th>\n",
       "      <td>AAB</td>\n",
       "      <td>ABERDEEN INT'L. J</td>\n",
       "      <td>tsx</td>\n",
       "      <td>https://money.tmx.com/en/quote/AAB</td>\n",
       "      <td>AAB.TO</td>\n",
       "    </tr>\n",
       "    <tr>\n",
       "      <th>1</th>\n",
       "      <td>AAV</td>\n",
       "      <td>ADVANTAGE ENERGY LTD</td>\n",
       "      <td>tsx</td>\n",
       "      <td>https://money.tmx.com/en/quote/AAV</td>\n",
       "      <td>AAV.TO</td>\n",
       "    </tr>\n",
       "    <tr>\n",
       "      <th>2</th>\n",
       "      <td>ABCT</td>\n",
       "      <td>ABC TECH HOLDINGS</td>\n",
       "      <td>tsx</td>\n",
       "      <td>https://money.tmx.com/en/quote/ABCT</td>\n",
       "      <td>ABCT.TO</td>\n",
       "    </tr>\n",
       "    <tr>\n",
       "      <th>3</th>\n",
       "      <td>ABST</td>\n",
       "      <td>ABSOLUTE SOFTWARE J</td>\n",
       "      <td>tsx</td>\n",
       "      <td>https://money.tmx.com/en/quote/ABST</td>\n",
       "      <td>ABST.TO</td>\n",
       "    </tr>\n",
       "    <tr>\n",
       "      <th>4</th>\n",
       "      <td>ABX</td>\n",
       "      <td>BARRICK GOLD CORP</td>\n",
       "      <td>tsx</td>\n",
       "      <td>https://money.tmx.com/en/quote/ABX</td>\n",
       "      <td>ABX.TO</td>\n",
       "    </tr>\n",
       "    <tr>\n",
       "      <th>...</th>\n",
       "      <td>...</td>\n",
       "      <td>...</td>\n",
       "      <td>...</td>\n",
       "      <td>...</td>\n",
       "      <td>...</td>\n",
       "    </tr>\n",
       "    <tr>\n",
       "      <th>2982</th>\n",
       "      <td>ZWU</td>\n",
       "      <td>BMO COVERDUTILITY UN</td>\n",
       "      <td>tsx</td>\n",
       "      <td>https://money.tmx.com/en/quote/ZWU</td>\n",
       "      <td>ZWU.TO</td>\n",
       "    </tr>\n",
       "    <tr>\n",
       "      <th>2983</th>\n",
       "      <td>ZXM</td>\n",
       "      <td>CI MORNSTRINTLMOMNUN</td>\n",
       "      <td>tsx</td>\n",
       "      <td>https://money.tmx.com/en/quote/ZXM</td>\n",
       "      <td>ZXM.TO</td>\n",
       "    </tr>\n",
       "    <tr>\n",
       "      <th>2984</th>\n",
       "      <td>ZXM.B</td>\n",
       "      <td>CI MORNSTINTLMOMUNHG</td>\n",
       "      <td>tsx</td>\n",
       "      <td>https://money.tmx.com/en/quote/ZXM.B</td>\n",
       "      <td>ZXM-B.TO</td>\n",
       "    </tr>\n",
       "    <tr>\n",
       "      <th>2985</th>\n",
       "      <td>ZZZ</td>\n",
       "      <td>SLEEP CNTRY CDA HLDG</td>\n",
       "      <td>tsx</td>\n",
       "      <td>https://money.tmx.com/en/quote/ZZZ</td>\n",
       "      <td>ZZZ.TO</td>\n",
       "    </tr>\n",
       "    <tr>\n",
       "      <th>2986</th>\n",
       "      <td>ZZZD</td>\n",
       "      <td>BMO TACTICAL DIV UN</td>\n",
       "      <td>tsx</td>\n",
       "      <td>https://money.tmx.com/en/quote/ZZZD</td>\n",
       "      <td>ZZZD.TO</td>\n",
       "    </tr>\n",
       "  </tbody>\n",
       "</table>\n",
       "<p>2987 rows × 5 columns</p>\n",
       "</div>"
      ],
      "text/plain": [
       "     ticker                  name exchange  \\\n",
       "0       AAB     ABERDEEN INT'L. J      tsx   \n",
       "1       AAV  ADVANTAGE ENERGY LTD      tsx   \n",
       "2      ABCT     ABC TECH HOLDINGS      tsx   \n",
       "3      ABST   ABSOLUTE SOFTWARE J      tsx   \n",
       "4       ABX     BARRICK GOLD CORP      tsx   \n",
       "...     ...                   ...      ...   \n",
       "2982    ZWU  BMO COVERDUTILITY UN      tsx   \n",
       "2983    ZXM  CI MORNSTRINTLMOMNUN      tsx   \n",
       "2984  ZXM.B  CI MORNSTINTLMOMUNHG      tsx   \n",
       "2985    ZZZ  SLEEP CNTRY CDA HLDG      tsx   \n",
       "2986   ZZZD   BMO TACTICAL DIV UN      tsx   \n",
       "\n",
       "                                       url     yahoo  \n",
       "0       https://money.tmx.com/en/quote/AAB    AAB.TO  \n",
       "1       https://money.tmx.com/en/quote/AAV    AAV.TO  \n",
       "2      https://money.tmx.com/en/quote/ABCT   ABCT.TO  \n",
       "3      https://money.tmx.com/en/quote/ABST   ABST.TO  \n",
       "4       https://money.tmx.com/en/quote/ABX    ABX.TO  \n",
       "...                                    ...       ...  \n",
       "2982    https://money.tmx.com/en/quote/ZWU    ZWU.TO  \n",
       "2983    https://money.tmx.com/en/quote/ZXM    ZXM.TO  \n",
       "2984  https://money.tmx.com/en/quote/ZXM.B  ZXM-B.TO  \n",
       "2985    https://money.tmx.com/en/quote/ZZZ    ZZZ.TO  \n",
       "2986   https://money.tmx.com/en/quote/ZZZD   ZZZD.TO  \n",
       "\n",
       "[2987 rows x 5 columns]"
      ]
     },
     "execution_count": 16,
     "metadata": {},
     "output_type": "execute_result"
    }
   ],
   "source": [
    "df2 = stocks_data.get_symbols()\n",
    "df2"
   ]
  },
  {
   "cell_type": "code",
   "execution_count": 14,
   "metadata": {},
   "outputs": [
    {
     "data": {
      "text/plain": [
       "(493, 5)"
      ]
     },
     "execution_count": 14,
     "metadata": {},
     "output_type": "execute_result"
    }
   ],
   "source": [
    "df2.loc[df2[\"exchange\"] == \"tsxv\"].shape"
   ]
  },
  {
   "cell_type": "code",
   "execution_count": 33,
   "metadata": {},
   "outputs": [],
   "source": [
    "filter = \"AB\"\n",
    "df_copy = df2[df2[\"ticker\"].str[0:len(filter)] == filter].copy(deep=True)\n",
    "\n",
    "#symbols_df.loc[symbols_df[\"ticker\"].str[0:end_pos] == ticker_filter].copy(deep=True)\n"
   ]
  },
  {
   "cell_type": "code",
   "execution_count": 34,
   "metadata": {},
   "outputs": [
    {
     "data": {
      "text/html": [
       "<div>\n",
       "<style scoped>\n",
       "    .dataframe tbody tr th:only-of-type {\n",
       "        vertical-align: middle;\n",
       "    }\n",
       "\n",
       "    .dataframe tbody tr th {\n",
       "        vertical-align: top;\n",
       "    }\n",
       "\n",
       "    .dataframe thead th {\n",
       "        text-align: right;\n",
       "    }\n",
       "</style>\n",
       "<table border=\"1\" class=\"dataframe\">\n",
       "  <thead>\n",
       "    <tr style=\"text-align: right;\">\n",
       "      <th></th>\n",
       "      <th>ticker</th>\n",
       "      <th>name</th>\n",
       "      <th>exchange</th>\n",
       "      <th>url</th>\n",
       "      <th>yahoo</th>\n",
       "    </tr>\n",
       "  </thead>\n",
       "  <tbody>\n",
       "    <tr>\n",
       "      <th>0</th>\n",
       "      <td>AAB</td>\n",
       "      <td>ABERDEEN INT'L. J</td>\n",
       "      <td>tsx</td>\n",
       "      <td>https://money.tmx.com/en/quote/AAB</td>\n",
       "      <td>AAB.TO</td>\n",
       "    </tr>\n",
       "    <tr>\n",
       "      <th>1</th>\n",
       "      <td>AAV</td>\n",
       "      <td>ADVANTAGE ENERGY LTD</td>\n",
       "      <td>tsx</td>\n",
       "      <td>https://money.tmx.com/en/quote/AAV</td>\n",
       "      <td>AAV.TO</td>\n",
       "    </tr>\n",
       "    <tr>\n",
       "      <th>2</th>\n",
       "      <td>ABCT</td>\n",
       "      <td>ABC TECH HOLDINGS</td>\n",
       "      <td>tsx</td>\n",
       "      <td>https://money.tmx.com/en/quote/ABCT</td>\n",
       "      <td>ABCT.TO</td>\n",
       "    </tr>\n",
       "    <tr>\n",
       "      <th>3</th>\n",
       "      <td>ABST</td>\n",
       "      <td>ABSOLUTE SOFTWARE J</td>\n",
       "      <td>tsx</td>\n",
       "      <td>https://money.tmx.com/en/quote/ABST</td>\n",
       "      <td>ABST.TO</td>\n",
       "    </tr>\n",
       "    <tr>\n",
       "      <th>4</th>\n",
       "      <td>ABX</td>\n",
       "      <td>BARRICK GOLD CORP</td>\n",
       "      <td>tsx</td>\n",
       "      <td>https://money.tmx.com/en/quote/ABX</td>\n",
       "      <td>ABX.TO</td>\n",
       "    </tr>\n",
       "    <tr>\n",
       "      <th>...</th>\n",
       "      <td>...</td>\n",
       "      <td>...</td>\n",
       "      <td>...</td>\n",
       "      <td>...</td>\n",
       "      <td>...</td>\n",
       "    </tr>\n",
       "    <tr>\n",
       "      <th>2982</th>\n",
       "      <td>ZWU</td>\n",
       "      <td>BMO COVERDUTILITY UN</td>\n",
       "      <td>tsx</td>\n",
       "      <td>https://money.tmx.com/en/quote/ZWU</td>\n",
       "      <td>ZWU.TO</td>\n",
       "    </tr>\n",
       "    <tr>\n",
       "      <th>2983</th>\n",
       "      <td>ZXM</td>\n",
       "      <td>CI MORNSTRINTLMOMNUN</td>\n",
       "      <td>tsx</td>\n",
       "      <td>https://money.tmx.com/en/quote/ZXM</td>\n",
       "      <td>ZXM.TO</td>\n",
       "    </tr>\n",
       "    <tr>\n",
       "      <th>2984</th>\n",
       "      <td>ZXM.B</td>\n",
       "      <td>CI MORNSTINTLMOMUNHG</td>\n",
       "      <td>tsx</td>\n",
       "      <td>https://money.tmx.com/en/quote/ZXM.B</td>\n",
       "      <td>ZXM-B.TO</td>\n",
       "    </tr>\n",
       "    <tr>\n",
       "      <th>2985</th>\n",
       "      <td>ZZZ</td>\n",
       "      <td>SLEEP CNTRY CDA HLDG</td>\n",
       "      <td>tsx</td>\n",
       "      <td>https://money.tmx.com/en/quote/ZZZ</td>\n",
       "      <td>ZZZ.TO</td>\n",
       "    </tr>\n",
       "    <tr>\n",
       "      <th>2986</th>\n",
       "      <td>ZZZD</td>\n",
       "      <td>BMO TACTICAL DIV UN</td>\n",
       "      <td>tsx</td>\n",
       "      <td>https://money.tmx.com/en/quote/ZZZD</td>\n",
       "      <td>ZZZD.TO</td>\n",
       "    </tr>\n",
       "  </tbody>\n",
       "</table>\n",
       "<p>2987 rows × 5 columns</p>\n",
       "</div>"
      ],
      "text/plain": [
       "     ticker                  name exchange  \\\n",
       "0       AAB     ABERDEEN INT'L. J      tsx   \n",
       "1       AAV  ADVANTAGE ENERGY LTD      tsx   \n",
       "2      ABCT     ABC TECH HOLDINGS      tsx   \n",
       "3      ABST   ABSOLUTE SOFTWARE J      tsx   \n",
       "4       ABX     BARRICK GOLD CORP      tsx   \n",
       "...     ...                   ...      ...   \n",
       "2982    ZWU  BMO COVERDUTILITY UN      tsx   \n",
       "2983    ZXM  CI MORNSTRINTLMOMNUN      tsx   \n",
       "2984  ZXM.B  CI MORNSTINTLMOMUNHG      tsx   \n",
       "2985    ZZZ  SLEEP CNTRY CDA HLDG      tsx   \n",
       "2986   ZZZD   BMO TACTICAL DIV UN      tsx   \n",
       "\n",
       "                                       url     yahoo  \n",
       "0       https://money.tmx.com/en/quote/AAB    AAB.TO  \n",
       "1       https://money.tmx.com/en/quote/AAV    AAV.TO  \n",
       "2      https://money.tmx.com/en/quote/ABCT   ABCT.TO  \n",
       "3      https://money.tmx.com/en/quote/ABST   ABST.TO  \n",
       "4       https://money.tmx.com/en/quote/ABX    ABX.TO  \n",
       "...                                    ...       ...  \n",
       "2982    https://money.tmx.com/en/quote/ZWU    ZWU.TO  \n",
       "2983    https://money.tmx.com/en/quote/ZXM    ZXM.TO  \n",
       "2984  https://money.tmx.com/en/quote/ZXM.B  ZXM-B.TO  \n",
       "2985    https://money.tmx.com/en/quote/ZZZ    ZZZ.TO  \n",
       "2986   https://money.tmx.com/en/quote/ZZZD   ZZZD.TO  \n",
       "\n",
       "[2987 rows x 5 columns]"
      ]
     },
     "execution_count": 34,
     "metadata": {},
     "output_type": "execute_result"
    }
   ],
   "source": [
    "df2"
   ]
  },
  {
   "cell_type": "code",
   "execution_count": 35,
   "metadata": {},
   "outputs": [
    {
     "data": {
      "text/html": [
       "<div>\n",
       "<style scoped>\n",
       "    .dataframe tbody tr th:only-of-type {\n",
       "        vertical-align: middle;\n",
       "    }\n",
       "\n",
       "    .dataframe tbody tr th {\n",
       "        vertical-align: top;\n",
       "    }\n",
       "\n",
       "    .dataframe thead th {\n",
       "        text-align: right;\n",
       "    }\n",
       "</style>\n",
       "<table border=\"1\" class=\"dataframe\">\n",
       "  <thead>\n",
       "    <tr style=\"text-align: right;\">\n",
       "      <th></th>\n",
       "      <th>ticker</th>\n",
       "      <th>name</th>\n",
       "      <th>exchange</th>\n",
       "      <th>url</th>\n",
       "      <th>yahoo</th>\n",
       "    </tr>\n",
       "  </thead>\n",
       "  <tbody>\n",
       "    <tr>\n",
       "      <th>2</th>\n",
       "      <td>ABCT</td>\n",
       "      <td>ABC TECH HOLDINGS</td>\n",
       "      <td>tsx</td>\n",
       "      <td>https://money.tmx.com/en/quote/ABCT</td>\n",
       "      <td>ABCT.TO</td>\n",
       "    </tr>\n",
       "    <tr>\n",
       "      <th>3</th>\n",
       "      <td>ABST</td>\n",
       "      <td>ABSOLUTE SOFTWARE J</td>\n",
       "      <td>tsx</td>\n",
       "      <td>https://money.tmx.com/en/quote/ABST</td>\n",
       "      <td>ABST.TO</td>\n",
       "    </tr>\n",
       "    <tr>\n",
       "      <th>4</th>\n",
       "      <td>ABX</td>\n",
       "      <td>BARRICK GOLD CORP</td>\n",
       "      <td>tsx</td>\n",
       "      <td>https://money.tmx.com/en/quote/ABX</td>\n",
       "      <td>ABX.TO</td>\n",
       "    </tr>\n",
       "  </tbody>\n",
       "</table>\n",
       "</div>"
      ],
      "text/plain": [
       "  ticker                 name exchange                                  url  \\\n",
       "2   ABCT    ABC TECH HOLDINGS      tsx  https://money.tmx.com/en/quote/ABCT   \n",
       "3   ABST  ABSOLUTE SOFTWARE J      tsx  https://money.tmx.com/en/quote/ABST   \n",
       "4    ABX    BARRICK GOLD CORP      tsx   https://money.tmx.com/en/quote/ABX   \n",
       "\n",
       "     yahoo  \n",
       "2  ABCT.TO  \n",
       "3  ABST.TO  \n",
       "4   ABX.TO  "
      ]
     },
     "execution_count": 35,
     "metadata": {},
     "output_type": "execute_result"
    }
   ],
   "source": [
    "df_copy"
   ]
  }
 ],
 "metadata": {
  "interpreter": {
   "hash": "d67b9618866dd9b74d33a444efc9c9bbb974433ef649364e533196a1f341c63f"
  },
  "kernelspec": {
   "display_name": "Python 3.10.0 64-bit ('env': venv)",
   "language": "python",
   "name": "python3"
  },
  "language_info": {
   "codemirror_mode": {
    "name": "ipython",
    "version": 3
   },
   "file_extension": ".py",
   "mimetype": "text/x-python",
   "name": "python",
   "nbconvert_exporter": "python",
   "pygments_lexer": "ipython3",
   "version": "3.10.0"
  },
  "orig_nbformat": 4
 },
 "nbformat": 4,
 "nbformat_minor": 2
}
