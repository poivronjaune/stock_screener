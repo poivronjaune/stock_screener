{
 "cells": [
  {
   "cell_type": "code",
   "execution_count": 49,
   "metadata": {},
   "outputs": [],
   "source": [
    "import dotenv\n",
    "dotenv.load_dotenv()\n",
    "\n",
    "import os\n",
    "import time\n",
    "import random\n",
    "from selenium import webdriver\n",
    "from selenium.webdriver.chrome.service import Service\n",
    "from selenium.webdriver.common.by import By\n",
    "from selenium.webdriver.common.keys import Keys\n",
    "from selenium.webdriver.support.ui import WebDriverWait\n",
    "from selenium.webdriver.support import expected_conditions as EC"
   ]
  },
  {
   "cell_type": "code",
   "execution_count": 4,
   "metadata": {},
   "outputs": [],
   "source": [
    "def open_browser():\n",
    "    # Setup Selenium browser\n",
    "    CHROME_DRIVER_LOCATION = \"chromedriver.exe\"\n",
    "    service_object = Service(CHROME_DRIVER_LOCATION)\n",
    "\n",
    "    OPTIONS = webdriver.ChromeOptions()\n",
    "    OPTIONS.add_argument('--ignore-certicate-errors')\n",
    "    #OPTIONS.add_argument('--incognito')\n",
    "    #OPTIONS.add_argument('--headless')\n",
    "    OPTIONS.add_experimental_option('excludeSwitches', ['enable-logging'])\n",
    "    \n",
    "    #self.driver = webdriver.Chrome(executable_path=CHROME_DRIVER_LOCATION,options=OPTIONS)\n",
    "    driver = webdriver.Chrome(service=service_object, options=OPTIONS)\n",
    "    WebDriverWait(driver, 10)\n",
    "\n",
    "    return driver"
   ]
  },
  {
   "cell_type": "code",
   "execution_count": 52,
   "metadata": {},
   "outputs": [],
   "source": [
    "def login_to_wealthsimple(driver):    \n",
    "    url = \"https://my.wealthsimple.com/app/login\"  \n",
    "    driver.get(url)\n",
    "    time.sleep(10)\n",
    "\n",
    "    try:\n",
    "        WebDriverWait(driver, 10).until(EC.presence_of_element_located((By.TAG_NAME, 'input')))\n",
    "        inputs = driver.find_elements(By.TAG_NAME, 'input')\n",
    "        login = inputs[0]\n",
    "        pwd = inputs[1]\n",
    "        login_str = 'poivronjaune@gmail.com'\n",
    "        login.send_keys(login_str)\n",
    "        pwd_str = os.environ[\"PWD\"]\n",
    "        #'$WddnFN2$wqpEKE01ta&h%iVC'\n",
    "        pwd.send_keys(pwd_str)\n",
    "    except Exception as e:\n",
    "        print(f\"Unable to detect login : {e}\")\n",
    "        pass"
   ]
  },
  {
   "cell_type": "code",
   "execution_count": null,
   "metadata": {},
   "outputs": [],
   "source": [
    "def search_ticker(driver):\n",
    "    url = \"https://my.wealthsimple.com/app/trade\"\n",
    "    driver.get(url)\n",
    "    time.sleep(10)\n",
    "    "
   ]
  },
  {
   "cell_type": "code",
   "execution_count": 51,
   "metadata": {},
   "outputs": [],
   "source": [
    "driver = open_browser()\n",
    "login_to_wealthsimple(driver)\n",
    "\n"
   ]
  }
 ],
 "metadata": {
  "interpreter": {
   "hash": "f6ea743d4123cf0f72c1a3e7afb768a545bcfd9cdf4233ff0f334085311ff027"
  },
  "kernelspec": {
   "display_name": "Python 3.9.6 64-bit ('env': venv)",
   "language": "python",
   "name": "python3"
  },
  "language_info": {
   "codemirror_mode": {
    "name": "ipython",
    "version": 3
   },
   "file_extension": ".py",
   "mimetype": "text/x-python",
   "name": "python",
   "nbconvert_exporter": "python",
   "pygments_lexer": "ipython3",
   "version": "3.9.6"
  },
  "orig_nbformat": 4
 },
 "nbformat": 4,
 "nbformat_minor": 2
}
