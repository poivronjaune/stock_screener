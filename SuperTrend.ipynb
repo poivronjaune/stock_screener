{
 "cells": [
  {
   "cell_type": "code",
   "execution_count": 1,
   "metadata": {},
   "outputs": [],
   "source": [
    "import sqlite3\n",
    "import pandas as pd\n",
    "import numpy as np\n",
    "import matplotlib\n",
    "\n",
    "database_name = \"TSX_Quality.sqlite\""
   ]
  },
  {
   "cell_type": "markdown",
   "metadata": {},
   "source": [
    "### Utility function to get prices from our local database  "
   ]
  },
  {
   "cell_type": "code",
   "execution_count": 2,
   "metadata": {},
   "outputs": [],
   "source": [
    "def get_prices_for(symbol):\n",
    "    conn = sqlite3.connect(database_name)\n",
    "    \n",
    "    # Make sur all dates are in ascending order\n",
    "    sql = f\"SELECT * FROM Prices_Daily WHERE Ticker = '{symbol}' ORDER BY UPPER(Ticker) ASC, Date ASC\"\n",
    "    prices = pd.read_sql_query(sql, conn, index_col=\"Date\")\n",
    "    prices.index = pd.to_datetime(prices.index)\n",
    "    \n",
    "    # Clean up CSV data to make sure we have only floats and no \"-\" values\n",
    "    prices.replace(\"-\", np.NaN, inplace=True)\n",
    "    #prices[\"Volume\"].replace(0, np.NaN, inplace=True)\n",
    "    prices[\"Open\"] = prices[\"Open\"].astype(float)\n",
    "    prices[\"High\"] = prices[\"High\"].astype(float)\n",
    "    prices[\"Low\"]  = prices[\"Low\"].astype(float)\n",
    "    prices[\"Close\"]= prices[\"Close\"].astype(float)\n",
    "    \n",
    "    # Required for finTA\n",
    "    prices.rename(columns={\"Open\":\"open\", \"High\":\"high\", \"Low\":\"low\", \"Close\":\"close\", \"Volume\":\"volume\"}, inplace=True)\n",
    "    prices.index.rename(\"date\", inplace=True) \n",
    "    \n",
    "    return prices"
   ]
  },
  {
   "cell_type": "markdown",
   "metadata": {},
   "source": [
    "### Indicator calculations added to the prices dataframe"
   ]
  },
  {
   "cell_type": "code",
   "execution_count": 6,
   "metadata": {},
   "outputs": [],
   "source": [
    "def EMA(prices, days=20, smoothing=2):\n",
    "    ema = [sum(prices[:days][\"close\"]) / days]\n",
    "    for close_price in prices[days:][\"close\"]:\n",
    "        new_value = close_price * (smoothing / (1 + days) )\n",
    "        ema_prev_day = ema[-1]\n",
    "    return ema"
   ]
  },
  {
   "cell_type": "code",
   "execution_count": 7,
   "metadata": {},
   "outputs": [
    {
     "data": {
      "text/plain": [
       "[0.04000000000000001]"
      ]
     },
     "execution_count": 7,
     "metadata": {},
     "output_type": "execute_result"
    }
   ],
   "source": [
    "symbol = \"SHOP\"\n",
    "prices_df = get_prices_for(symbol)\n",
    "prices_df\n",
    "\n",
    "EMA(prices_df, days=20)"
   ]
  }
 ],
 "metadata": {
  "interpreter": {
   "hash": "f6ea743d4123cf0f72c1a3e7afb768a545bcfd9cdf4233ff0f334085311ff027"
  },
  "kernelspec": {
   "display_name": "Python 3.9.6 64-bit ('env': venv)",
   "language": "python",
   "name": "python3"
  },
  "language_info": {
   "codemirror_mode": {
    "name": "ipython",
    "version": 3
   },
   "file_extension": ".py",
   "mimetype": "text/x-python",
   "name": "python",
   "nbconvert_exporter": "python",
   "pygments_lexer": "ipython3",
   "version": "3.9.6"
  },
  "orig_nbformat": 4
 },
 "nbformat": 4,
 "nbformat_minor": 2
}
